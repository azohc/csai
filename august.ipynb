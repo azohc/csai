{
 "cells": [
  {
   "cell_type": "code",
   "execution_count": 1,
   "metadata": {},
   "outputs": [],
   "source": [
    "# Regular EDA and plotting libraries\n",
    "import numpy as np # np is short for numpy\n",
    "import pandas as pd # pandas is so commonly used, it's shortened to pd\n",
    "import matplotlib.pyplot as plt\n",
    "import seaborn as sns # seaborn gets shortened to sns\n",
    "\n",
    "# We want our plots to appear in the notebook\n",
    "%matplotlib inline \n",
    "\n",
    "## Models\n",
    "from sklearn.linear_model import LogisticRegression\n",
    "from sklearn.neighbors import KNeighborsClassifier\n",
    "from sklearn.ensemble import RandomForestClassifier\n",
    "\n",
    "## Model evaluators\n",
    "from sklearn.model_selection import train_test_split, cross_val_score\n",
    "from sklearn.model_selection import RandomizedSearchCV, GridSearchCV\n",
    "from sklearn.metrics import confusion_matrix, classification_report\n",
    "from sklearn.metrics import precision_score, recall_score, f1_score\n",
    "from sklearn.metrics import plot_roc_curve"
   ]
  },
  {
   "cell_type": "code",
   "execution_count": 2,
   "metadata": {},
   "outputs": [
    {
     "name": "stdout",
     "output_type": "stream",
     "text": [
      "<class 'pandas.core.frame.DataFrame'>\n",
      "RangeIndex: 87132 entries, 0 to 87131\n",
      "Data columns (total 6 columns):\n",
      " #   Column                  Non-Null Count  Dtype  \n",
      "---  ------                  --------------  -----  \n",
      " 0   map                     87132 non-null  object \n",
      " 1   current_score           87132 non-null  object \n",
      " 2   round_status            87132 non-null  object \n",
      " 3   round_status_time_left  87132 non-null  float64\n",
      " 4   alive_players           87132 non-null  object \n",
      " 5   round_winner            87132 non-null  object \n",
      "dtypes: float64(1), object(5)\n",
      "memory usage: 4.0+ MB\n"
     ]
    }
   ],
   "source": [
    "def read_dataset(template, start_idx, end_idx):\n",
    "    frames = [ pd.read_json(f) for f in [template.format(i) for i in range(start_idx, end_idx+1)] ]\n",
    "    return pd.concat(frames, ignore_index = True)\n",
    "\n",
    "df = read_dataset(\"datasets/dataset_initial/dataset_{:02}.json\", 0, 17)\n",
    "df.drop(['patch_version', 'map_crc', 'active_smokes', 'active_molotovs', 'previous_kills', 'planted_bomb'], axis=1, inplace=True)\n",
    "df.info()"
   ]
  },
  {
   "cell_type": "code",
   "execution_count": 3,
   "metadata": {},
   "outputs": [
    {
     "name": "stdout",
     "output_type": "stream",
     "text": [
      "<class 'pandas.core.frame.DataFrame'>\n",
      "Int64Index: 87130 entries, 0 to 87131\n",
      "Data columns (total 12 columns):\n",
      " #   Column                  Non-Null Count  Dtype   \n",
      "---  ------                  --------------  -----   \n",
      " 0   map                     87130 non-null  category\n",
      " 1   round_status            87130 non-null  category\n",
      " 2   round_status_time_left  87130 non-null  float64 \n",
      " 3   round_winner            87130 non-null  int64   \n",
      " 4   alive_players_t         87130 non-null  int64   \n",
      " 5   alive_players_ct        87130 non-null  int64   \n",
      " 6   health_ct               87130 non-null  int64   \n",
      " 7   health_t                87130 non-null  int64   \n",
      " 8   money_ct                87130 non-null  int64   \n",
      " 9   money_t                 87130 non-null  int64   \n",
      " 10  score_ct                87130 non-null  int64   \n",
      " 11  score_t                 87130 non-null  int64   \n",
      "dtypes: category(2), float64(1), int64(9)\n",
      "memory usage: 7.5 MB\n"
     ]
    }
   ],
   "source": [
    "def get_attr(ds, team, attr=None):\n",
    "    team_players = map(lambda players: filter(lambda p: p[\"team\"] == team, players), ds['alive_players'])\n",
    "    if attr:\n",
    "        team_players = map(lambda players: map(lambda p: p[attr], players), team_players)\n",
    "    \n",
    "    return list(map(lambda p: list(p), team_players))\n",
    "\n",
    "df['alive_players_t']  = list(map(len, get_attr(df, \"Terrorist\")))\n",
    "df['alive_players_ct'] = list(map(len, get_attr(df, \"CT\")))\n",
    "df['health_ct']        = list(map(sum, get_attr(df, \"CT\", \"health\")))\n",
    "df['health_t']         = list(map(sum, get_attr(df, \"Terrorist\", \"health\")))\n",
    "df['money_ct']         = list(map(sum, get_attr(df, \"CT\", \"money\")))\n",
    "df['money_t']          = list(map(sum, get_attr(df, \"Terrorist\", \"money\")))\n",
    "\n",
    "df.round_winner = df.round_winner.map(lambda team: 0 if team == \"CT\" else 1)\n",
    "\n",
    "df['score_ct'] = df.current_score.map(lambda score: score[0])\n",
    "df['score_t'] = df.current_score.map(lambda score: score[1])\n",
    "\n",
    "df.map = df.map.astype('category')\n",
    "df.round_status = df.round_status.astype('category')\n",
    "\n",
    "df.drop(['alive_players', 'current_score'], axis=1, inplace=True)\n",
    "\n",
    "for i in df.loc[lambda df: df.alive_players_t == 6].index:\n",
    "    df.drop(df.index[i], inplace=True)\n",
    "df = df.loc[lambda df: df.alive_players_t != 6]\n",
    "\n",
    "df.info()"
   ]
  },
  {
   "cell_type": "code",
   "execution_count": 13,
   "metadata": {
    "scrolled": true
   },
   "outputs": [
    {
     "name": "stdout",
     "output_type": "stream",
     "text": [
      "58271\n",
      "58274\n"
     ]
    }
   ],
   "source": [
    "df.describe()"
   ]
  },
  {
   "cell_type": "code",
   "execution_count": 5,
   "metadata": {},
   "outputs": [
    {
     "name": "stdout",
     "output_type": "stream",
     "text": [
      "62733 train examples\n",
      "15684 validation examples\n",
      "8713 test examples\n"
     ]
    }
   ],
   "source": [
    "train, test = train_test_split(df, test_size=0.1)\n",
    "train, val = train_test_split(train, test_size=0.2)\n",
    "print(len(train), 'train examples')\n",
    "print(len(val), 'validation examples')\n",
    "print(len(test), 'test examples')"
   ]
  },
  {
   "cell_type": "code",
   "execution_count": 6,
   "metadata": {},
   "outputs": [
    {
     "data": {
      "image/png": "[encoded data removed]",
      "text/plain": [
       "<Figure size 1440x720 with 1 Axes>"
      ]
     },
     "metadata": {
      "needs_background": "light"
     },
     "output_type": "display_data"
    }
   ],
   "source": [
    "# Create figure\n",
    "plt.figure(figsize=(20,10))\n",
    "\n",
    "# Start with T wins\n",
    "plt.scatter(df.alive_players_t[df.round_winner==1], \n",
    "            df.round_status_time_left[df.round_winner==1], \n",
    "            c=\"salmon\") # define it as a scatter figure\n",
    "\n",
    "# Now for CT wins, we want them on the same plot, so we call plt again\n",
    "plt.scatter(df.alive_players_t[df.round_winner==0], \n",
    "            df.round_status_time_left[df.round_winner==0], \n",
    "            c=\"lightblue\") # axis always come as (x, y)\n",
    "\n",
    "# Add some helpful info\n",
    "plt.title(\"ASss\")\n",
    "plt.xlabel(\"Nr of Terrorists Alive\")\n",
    "plt.legend([\"T Win\", \"CT Win\"])\n",
    "plt.ylabel(\"Round Time\");"
   ]
  }
 ],
 "metadata": {
  "kernelspec": {
   "display_name": "Python 3",
   "language": "python",
   "name": "python3"
  },
  "language_info": {
   "codemirror_mode": {
    "name": "ipython",
    "version": 3
   },
   "file_extension": ".py",
   "mimetype": "text/x-python",
   "name": "python",
   "nbconvert_exporter": "python",
   "pygments_lexer": "ipython3",
   "version": "3.6.9"
  }
 },
 "nbformat": 4,
 "nbformat_minor": 4
}
